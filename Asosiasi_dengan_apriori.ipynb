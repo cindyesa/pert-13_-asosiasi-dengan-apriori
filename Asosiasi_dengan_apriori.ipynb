{
  "nbformat": 4,
  "nbformat_minor": 0,
  "metadata": {
    "colab": {
      "provenance": []
    },
    "kernelspec": {
      "name": "python3",
      "display_name": "Python 3"
    },
    "language_info": {
      "name": "python"
    }
  },
  "cells": [
    {
      "cell_type": "code",
      "execution_count": 1,
      "metadata": {
        "id": "42ySoLwZhpA4"
      },
      "outputs": [],
      "source": [
        "import pandas as pd\n",
        "import numpy as np\n",
        "import seaborn as sns\n",
        "import matplotlib.pyplot as plt\n",
        "from mlxtend.preprocessing import TransactionEncoder\n",
        "from mlxtend.frequent_patterns import apriori, association_rules\n",
        "from pandas.plotting import parallel_coordinates\n",
        "import warnings\n",
        "warnings.filterwarnings('ignore')"
      ]
    },
    {
      "cell_type": "code",
      "source": [
        "df = pd.read_csv('../content/basket_analysis.csv')"
      ],
      "metadata": {
        "id": "CKYJPUa5h4vK"
      },
      "execution_count": 2,
      "outputs": []
    },
    {
      "cell_type": "code",
      "source": [
        "print(df)"
      ],
      "metadata": {
        "colab": {
          "base_uri": "https://localhost:8080/"
        },
        "id": "n0agGUftiL1Z",
        "outputId": "2a628346-52c6-4de9-9cdf-d0a7315c8aa3"
      },
      "execution_count": 3,
      "outputs": [
        {
          "output_type": "stream",
          "name": "stdout",
          "text": [
            "     Unnamed: 0  Apple  Bread  Butter  Cheese   Corn   Dill   Eggs  Ice cream  \\\n",
            "0             0  False   True   False   False   True   True  False       True   \n",
            "1             1  False  False   False   False  False  False  False      False   \n",
            "2             2   True  False    True   False  False   True  False       True   \n",
            "3             3  False  False    True    True  False   True  False      False   \n",
            "4             4   True   True   False   False  False  False  False      False   \n",
            "..          ...    ...    ...     ...     ...    ...    ...    ...        ...   \n",
            "994         994  False   True   False   False  False  False   True      False   \n",
            "995         995   True  False   False   False   True  False  False      False   \n",
            "996         996   True  False   False   False   True   True  False      False   \n",
            "997         997  False  False    True    True   True  False   True       True   \n",
            "998         998  False  False   False   False  False  False  False      False   \n",
            "\n",
            "     Kidney Beans   Milk  Nutmeg  Onion  Sugar  Unicorn  Yogurt  chocolate  \n",
            "0           False  False   False  False   True    False    True       True  \n",
            "1           False   True   False  False  False    False   False      False  \n",
            "2           False   True   False  False  False    False    True       True  \n",
            "3           False   True    True   True  False    False   False      False  \n",
            "4           False  False   False  False  False    False   False      False  \n",
            "..            ...    ...     ...    ...    ...      ...     ...        ...  \n",
            "994         False  False   False  False  False     True   False       True  \n",
            "995          True   True    True  False  False    False    True      False  \n",
            "996         False  False   False  False   True    False   False       True  \n",
            "997          True  False    True  False   True    False    True       True  \n",
            "998         False   True   False  False  False    False   False       True  \n",
            "\n",
            "[999 rows x 17 columns]\n"
          ]
        }
      ]
    },
    {
      "cell_type": "code",
      "source": [
        "df.drop(df.columns[0],axis=1,inplace=True)"
      ],
      "metadata": {
        "id": "502Gr8-piSY9"
      },
      "execution_count": 4,
      "outputs": []
    },
    {
      "cell_type": "code",
      "source": [
        "print(df)"
      ],
      "metadata": {
        "colab": {
          "base_uri": "https://localhost:8080/"
        },
        "id": "4W5zHEVTiTxg",
        "outputId": "8d45a54c-cc6b-4962-91b3-f8ee62bb0fff"
      },
      "execution_count": 5,
      "outputs": [
        {
          "output_type": "stream",
          "name": "stdout",
          "text": [
            "     Apple  Bread  Butter  Cheese   Corn   Dill   Eggs  Ice cream  \\\n",
            "0    False   True   False   False   True   True  False       True   \n",
            "1    False  False   False   False  False  False  False      False   \n",
            "2     True  False    True   False  False   True  False       True   \n",
            "3    False  False    True    True  False   True  False      False   \n",
            "4     True   True   False   False  False  False  False      False   \n",
            "..     ...    ...     ...     ...    ...    ...    ...        ...   \n",
            "994  False   True   False   False  False  False   True      False   \n",
            "995   True  False   False   False   True  False  False      False   \n",
            "996   True  False   False   False   True   True  False      False   \n",
            "997  False  False    True    True   True  False   True       True   \n",
            "998  False  False   False   False  False  False  False      False   \n",
            "\n",
            "     Kidney Beans   Milk  Nutmeg  Onion  Sugar  Unicorn  Yogurt  chocolate  \n",
            "0           False  False   False  False   True    False    True       True  \n",
            "1           False   True   False  False  False    False   False      False  \n",
            "2           False   True   False  False  False    False    True       True  \n",
            "3           False   True    True   True  False    False   False      False  \n",
            "4           False  False   False  False  False    False   False      False  \n",
            "..            ...    ...     ...    ...    ...      ...     ...        ...  \n",
            "994         False  False   False  False  False     True   False       True  \n",
            "995          True   True    True  False  False    False    True      False  \n",
            "996         False  False   False  False   True    False   False       True  \n",
            "997          True  False    True  False   True    False    True       True  \n",
            "998         False   True   False  False  False    False   False       True  \n",
            "\n",
            "[999 rows x 16 columns]\n"
          ]
        }
      ]
    },
    {
      "cell_type": "code",
      "source": [
        "df.shape"
      ],
      "metadata": {
        "id": "wiXXjrVFiXed",
        "outputId": "ec124290-8676-4da7-e941-5a2fc8a8e7a8",
        "colab": {
          "base_uri": "https://localhost:8080/"
        }
      },
      "execution_count": 6,
      "outputs": [
        {
          "output_type": "execute_result",
          "data": {
            "text/plain": [
              "(999, 16)"
            ]
          },
          "metadata": {},
          "execution_count": 6
        }
      ]
    },
    {
      "cell_type": "code",
      "source": [
        "df.mean()"
      ],
      "metadata": {
        "id": "hjQ2IfU5iZow",
        "outputId": "c79a7d6b-35fc-423b-b143-a9b26a7a240f",
        "colab": {
          "base_uri": "https://localhost:8080/"
        }
      },
      "execution_count": 7,
      "outputs": [
        {
          "output_type": "execute_result",
          "data": {
            "text/plain": [
              "Apple           0.383383\n",
              "Bread           0.384384\n",
              "Butter          0.420420\n",
              "Cheese          0.404404\n",
              "Corn            0.407407\n",
              "Dill            0.398398\n",
              "Eggs            0.384384\n",
              "Ice cream       0.410410\n",
              "Kidney Beans    0.408408\n",
              "Milk            0.405405\n",
              "Nutmeg          0.401401\n",
              "Onion           0.403403\n",
              "Sugar           0.409409\n",
              "Unicorn         0.389389\n",
              "Yogurt          0.420420\n",
              "chocolate       0.421421\n",
              "dtype: float64"
            ]
          },
          "metadata": {},
          "execution_count": 7
        }
      ]
    }
  ]
}